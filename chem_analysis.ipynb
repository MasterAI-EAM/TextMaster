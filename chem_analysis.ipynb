{
 "cells": [
  {
   "cell_type": "code",
   "execution_count": 28,
   "metadata": {},
   "outputs": [],
   "source": [
    "import json\n",
    "with open('ald_meta.json', 'r', encoding='utf-8') as f:\n",
    "    ald_meta = json.load(f)\n",
    "with open('ald_sen.json', 'r', encoding='utf-8') as f:\n",
    "    ald_sen = json.load(f)"
   ]
  },
  {
   "cell_type": "code",
   "execution_count": 31,
   "metadata": {},
   "outputs": [
    {
     "name": "stdout",
     "output_type": "stream",
     "text": [
      "35070\n"
     ]
    }
   ],
   "source": [
    "print(len(ald_meta.keys()))"
   ]
  },
  {
   "cell_type": "code",
   "execution_count": 4,
   "metadata": {},
   "outputs": [
    {
     "name": "stdout",
     "output_type": "stream",
     "text": [
      "91\n"
     ]
    }
   ],
   "source": [
    "count = 0\n",
    "for m in ald_meta.keys():\n",
    "    if 'year' not in ald_meta[m].keys():\n",
    "        count += 1\n",
    "print(count)"
   ]
  },
  {
   "cell_type": "code",
   "execution_count": 10,
   "metadata": {},
   "outputs": [
    {
     "name": "stderr",
     "output_type": "stream",
     "text": [
      "100%|██████████| 34752/34752 [26:17<00:00, 22.03it/s]\n"
     ]
    }
   ],
   "source": [
    "from chemdataextractor import Document\n",
    "from tqdm import tqdm\n",
    "\n",
    "# copy and paste abstract text into Document\n",
    "with open('ald.json', 'r', encoding='utf-8') as f:\n",
    "    ald_dict = json.load(f)\n",
    "spans = {}\n",
    "for a in tqdm(ald_dict.keys()):\n",
    "    doc = Document(ald_dict[a])\n",
    "    spans[a] = doc.cems"
   ]
  },
  {
   "cell_type": "code",
   "execution_count": 11,
   "metadata": {},
   "outputs": [],
   "source": [
    "def find_nearest(sen, ci, span):\n",
    "    distance = 10000\n",
    "    nearest = ''\n",
    "    # print(span)\n",
    "    for s in span:\n",
    "        cd = abs(s.start-ci)\n",
    "        if cd < distance:\n",
    "            distance = cd\n",
    "            nearest = s.text\n",
    "    return nearest"
   ]
  },
  {
   "cell_type": "code",
   "execution_count": 12,
   "metadata": {},
   "outputs": [
    {
     "name": "stderr",
     "output_type": "stream",
     "text": [
      "  2%|▏         | 49/2190 [00:05<03:56,  9.07it/s]"
     ]
    },
    {
     "name": "stdout",
     "output_type": "stream",
     "text": [
      "?\n"
     ]
    },
    {
     "name": "stderr",
     "output_type": "stream",
     "text": [
      " 15%|█▍        | 325/2190 [00:37<03:38,  8.55it/s]"
     ]
    },
    {
     "name": "stdout",
     "output_type": "stream",
     "text": [
      "?\n"
     ]
    },
    {
     "name": "stderr",
     "output_type": "stream",
     "text": [
      "\r",
      " 15%|█▍        | 326/2190 [00:37<04:42,  6.60it/s]"
     ]
    },
    {
     "name": "stdout",
     "output_type": "stream",
     "text": [
      "?\n"
     ]
    },
    {
     "name": "stderr",
     "output_type": "stream",
     "text": [
      " 18%|█▊        | 403/2190 [00:46<03:46,  7.90it/s]"
     ]
    },
    {
     "name": "stdout",
     "output_type": "stream",
     "text": [
      "?\n"
     ]
    },
    {
     "name": "stderr",
     "output_type": "stream",
     "text": [
      " 22%|██▏       | 483/2190 [00:56<03:18,  8.59it/s]"
     ]
    },
    {
     "name": "stdout",
     "output_type": "stream",
     "text": [
      "?\n"
     ]
    },
    {
     "name": "stderr",
     "output_type": "stream",
     "text": [
      " 23%|██▎       | 508/2190 [00:59<04:41,  5.98it/s]"
     ]
    },
    {
     "name": "stdout",
     "output_type": "stream",
     "text": [
      "?\n"
     ]
    },
    {
     "name": "stderr",
     "output_type": "stream",
     "text": [
      " 25%|██▌       | 555/2190 [01:05<02:52,  9.49it/s]"
     ]
    },
    {
     "name": "stdout",
     "output_type": "stream",
     "text": [
      "?\n"
     ]
    },
    {
     "name": "stderr",
     "output_type": "stream",
     "text": [
      " 26%|██▌       | 565/2190 [01:06<02:12, 12.28it/s]"
     ]
    },
    {
     "name": "stdout",
     "output_type": "stream",
     "text": [
      "?\n"
     ]
    },
    {
     "name": "stderr",
     "output_type": "stream",
     "text": [
      " 27%|██▋       | 586/2190 [01:09<04:08,  6.45it/s]"
     ]
    },
    {
     "name": "stdout",
     "output_type": "stream",
     "text": [
      "?\n"
     ]
    },
    {
     "name": "stderr",
     "output_type": "stream",
     "text": [
      " 32%|███▏      | 696/2190 [01:22<02:54,  8.55it/s]"
     ]
    },
    {
     "name": "stdout",
     "output_type": "stream",
     "text": [
      "?\n"
     ]
    },
    {
     "name": "stderr",
     "output_type": "stream",
     "text": [
      " 48%|████▊     | 1052/2190 [02:05<02:22,  7.99it/s]"
     ]
    },
    {
     "name": "stdout",
     "output_type": "stream",
     "text": [
      "?\n",
      "?\n"
     ]
    },
    {
     "name": "stderr",
     "output_type": "stream",
     "text": [
      " 49%|████▉     | 1074/2190 [02:08<02:48,  6.64it/s]"
     ]
    },
    {
     "name": "stdout",
     "output_type": "stream",
     "text": [
      "?\n"
     ]
    },
    {
     "name": "stderr",
     "output_type": "stream",
     "text": [
      " 54%|█████▎    | 1177/2190 [02:21<01:36, 10.54it/s]"
     ]
    },
    {
     "name": "stdout",
     "output_type": "stream",
     "text": [
      "?\n"
     ]
    },
    {
     "name": "stderr",
     "output_type": "stream",
     "text": [
      " 58%|█████▊    | 1273/2190 [02:32<01:44,  8.79it/s]"
     ]
    },
    {
     "name": "stdout",
     "output_type": "stream",
     "text": [
      "?\n"
     ]
    },
    {
     "name": "stderr",
     "output_type": "stream",
     "text": [
      " 70%|███████   | 1533/2190 [03:06<01:26,  7.61it/s]"
     ]
    },
    {
     "name": "stdout",
     "output_type": "stream",
     "text": [
      "?\n"
     ]
    },
    {
     "name": "stderr",
     "output_type": "stream",
     "text": [
      " 80%|███████▉  | 1750/2190 [03:33<00:45,  9.57it/s]"
     ]
    },
    {
     "name": "stdout",
     "output_type": "stream",
     "text": [
      "?\n"
     ]
    },
    {
     "name": "stderr",
     "output_type": "stream",
     "text": [
      " 86%|████████▋ | 1892/2190 [03:51<00:48,  6.15it/s]"
     ]
    },
    {
     "name": "stdout",
     "output_type": "stream",
     "text": [
      "?\n"
     ]
    },
    {
     "name": "stderr",
     "output_type": "stream",
     "text": [
      " 89%|████████▉ | 1950/2190 [03:58<00:26,  9.08it/s]"
     ]
    },
    {
     "name": "stdout",
     "output_type": "stream",
     "text": [
      "?\n",
      "?\n"
     ]
    },
    {
     "name": "stderr",
     "output_type": "stream",
     "text": [
      " 93%|█████████▎| 2036/2190 [04:09<00:19,  7.91it/s]"
     ]
    },
    {
     "name": "stdout",
     "output_type": "stream",
     "text": [
      "?\n"
     ]
    },
    {
     "name": "stderr",
     "output_type": "stream",
     "text": [
      " 94%|█████████▍| 2056/2190 [04:11<00:10, 12.73it/s]"
     ]
    },
    {
     "name": "stdout",
     "output_type": "stream",
     "text": [
      "?\n"
     ]
    },
    {
     "name": "stderr",
     "output_type": "stream",
     "text": [
      "100%|██████████| 2190/2190 [04:29<00:00,  8.12it/s]\n"
     ]
    }
   ],
   "source": [
    "mat_freq = {}\n",
    "o_record = {}\n",
    "with open('ald.txt', 'r', encoding='utf-8') as f:\n",
    "    data = f.readlines()\n",
    "    for sen in tqdm(data):\n",
    "        o_record[sen[:-1]] = {}\n",
    "        doi = ald_sen[sen[:-1]]['doi']\n",
    "        if 'year' in ald_meta[doi].keys():\n",
    "            time = ald_meta[doi]['year']\n",
    "            o_record[sen[:-1]]['time'] = time\n",
    "        else:\n",
    "            time = '?'\n",
    "            print('?')\n",
    "            o_record[sen[:-1]]['time'] = time\n",
    "        if 'i_d' in ald_meta[doi].keys():\n",
    "            id_ = ald_meta[doi]['i_d']  \n",
    "            o_record[sen[:-1]]['id'] = id_\n",
    "        else:\n",
    "            id_ = '?'  \n",
    "            o_record[sen[:-1]]['id'] = id_\n",
    "        doc = Document(sen[:-1])\n",
    "        if len(doc.records) == 0:\n",
    "            current_index = ald_sen[sen[:-1]]['index']\n",
    "            span = spans[doi]\n",
    "            nearest_m = find_nearest(sen[:-1], current_index, span)\n",
    "            r_list = [nearest_m]\n",
    "        else:\n",
    "            r_list = []\n",
    "            for r in doc.records:\n",
    "                r_d = r.serialize()\n",
    "                r_list.append(r_d['names'][0])\n",
    "        o_record[sen[:-1]]['mat'] = r_list\n",
    "        for n in r_list:\n",
    "            if n in mat_freq.keys():\n",
    "                mat_freq[n]['freq'] += 1\n",
    "                if time in mat_freq[n]['year_freq'].keys():\n",
    "                    mat_freq[n]['year_freq'][time] += 1\n",
    "                else:\n",
    "                    mat_freq[n]['year_freq'][time] = 1\n",
    "            else:\n",
    "                mat_freq[n] = {}\n",
    "                mat_freq[n]['freq'] = 1\n",
    "                mat_freq[n]['year_freq'] = {}\n",
    "                mat_freq[n]['year_freq'][time] = 1"
   ]
  },
  {
   "cell_type": "code",
   "execution_count": 15,
   "metadata": {},
   "outputs": [
    {
     "name": "stderr",
     "output_type": "stream",
     "text": [
      "2022-02-19 14:30:51,280 [DEBUG] kashgari - ------------------------------------------------\n",
      "2022-02-19 14:30:51,281 [DEBUG] kashgari - Loaded gensim word2vec model's vocab\n",
      "2022-02-19 14:30:51,282 [DEBUG] kashgari - model        : mat_embedding3/vectors.txt\n",
      "2022-02-19 14:30:51,282 [DEBUG] kashgari - word count   : 529690\n",
      "2022-02-19 14:30:51,283 [DEBUG] kashgari - Top 50 words : ['the', 'of', '.', ',', 'and', '<nUm>', 'in', 'a', 'to', ')', '(', 'with', '-', 'for', 'is', 'by', 'on', 'was', 'at', 'were', 'that', '–', 'as', 'are', 'from', '/', 'an', 'temperature', 'surface', 'using', 'high', 'which', 'C', '°', 'this', '%', 'In', 'it', 'A', '=', 'structure', 'properties', ':', 'phase', 'results', 'effect', 'these', 'than', 'based', 'different']\n",
      "2022-02-19 14:30:51,283 [DEBUG] kashgari - ------------------------------------------------\n"
     ]
    }
   ],
   "source": [
    "import kashgari\n",
    "from kashgari.tasks.classification import CNN_Attention_Model, BiLSTM_Model, BiGRU_Model, CNN_Model, CNN_LSTM_Model\n",
    "import json\n",
    "from collections import Counter\n",
    "\n",
    "loaded_model = CNN_Attention_Model.load_model('CNN_Attention_86')"
   ]
  },
  {
   "cell_type": "code",
   "execution_count": 24,
   "metadata": {},
   "outputs": [
    {
     "name": "stderr",
     "output_type": "stream",
     "text": [
      "2022-02-19 15:19:56,495 [DEBUG] kashgari - predict input shape (2187, 78) x: \n",
      "[[   0    1  462 ...    0    0    0]\n",
      " [   0    1 2770 ...    0    0    0]\n",
      " [   0    1   50 ...    0    0    0]\n",
      " ...\n",
      " [   0    1 3534 ...    0    0    0]\n",
      " [   0    1  344 ...    0    0    0]\n",
      " [   0    1    7 ...    0    0    0]]\n",
      "2022-02-19 15:19:57,618 [DEBUG] kashgari - predict output shape (2187, 2)\n",
      "2022-02-19 15:19:57,620 [DEBUG] kashgari - predict output argmax: [0 0 1 ... 0 0 1]\n"
     ]
    }
   ],
   "source": [
    "for_predict = []\n",
    "for o in o_record.keys():\n",
    "    for_predict.append(o.split(' '))\n",
    "results = loaded_model.predict(for_predict)\n",
    "for i, o in enumerate(o_record.keys()):\n",
    "    o_record[o]['attitude'] = results[i]"
   ]
  },
  {
   "cell_type": "code",
   "execution_count": 30,
   "metadata": {},
   "outputs": [
    {
     "name": "stdout",
     "output_type": "stream",
     "text": [
      "1690\n"
     ]
    }
   ],
   "source": [
    "count = 0\n",
    "for t in results:\n",
    "    if t == 'driver':\n",
    "        count += 1\n",
    "print(count)"
   ]
  },
  {
   "cell_type": "code",
   "execution_count": 25,
   "metadata": {},
   "outputs": [],
   "source": [
    "json_str = json.dumps(o_record, indent=4)\n",
    "with open('ald_sen_record.json', 'w', encoding='utf-8') as json_file:\n",
    "    json_file.write(json_str)\n",
    "json_str = json.dumps(mat_freq, indent=4)\n",
    "with open('ald_mat_record.json', 'w', encoding='utf-8') as json_file:\n",
    "    json_file.write(json_str)"
   ]
  },
  {
   "cell_type": "code",
   "execution_count": 26,
   "metadata": {},
   "outputs": [],
   "source": [
    "import json\n",
    "\n",
    "with open('ald_sen_record.json', 'r', encoding='utf-8') as f:\n",
    "    ald_sen_record = json.load(f)\n",
    "    \n",
    "for s in ald_sen_record.keys():\n",
    "    ald_sen_record[s]['doi'] = ald_sen[s]['doi']\n",
    "    \n",
    "json_str = json.dumps(ald_sen_record, indent=4)\n",
    "with open('ald_sen_record.json', 'w', encoding='utf-8') as json_file:\n",
    "    json_file.write(json_str)"
   ]
  },
  {
   "cell_type": "code",
   "execution_count": 7,
   "metadata": {},
   "outputs": [
    {
     "name": "stdout",
     "output_type": "stream",
     "text": [
      "{'freq': 2, 'year_freq': {'2018': 1, '2007': 1}}\n",
      "Compositional tuning of the perovskite material can improve the fullerene-free device performance . 2018\n",
      "Such a close relationship between the structure and photophysical and photoelectrochernical properties of the fullerene dendrimers and their nanoclusters will provide knowledge of photophysics regarding photoactive molecular assemblies with dendritic architectures . 2007\n",
      "graphene : {'freq': 78, 'year_freq': {'2018': 17, '2013': 3, '2020': 6, '2014': 5, '2015': 5, '2019': 9, '2021': 9, '2016': 6, '2017': 12, '2012': 2, '2010': 1, '?': 1, '2022': 2}}\n"
     ]
    }
   ],
   "source": [
    "import json\n",
    "with open('ald_sen_record.json', 'r', encoding='utf-8') as f:\n",
    "    data = json.load(f)\n",
    "with open('ald_mat_record.json', 'r', encoding='utf-8') as f:\n",
    "    mdata = json.load(f)\n",
    "print(mdata['fullerene'])\n",
    "for d in data.keys():\n",
    "    if 'fullerene' in data[d]['mat']:\n",
    "        print(d, data[d]['time'])\n",
    "print('graphene', ':', mdata['graphene'])\n",
    "\n"
   ]
  },
  {
   "cell_type": "code",
   "execution_count": null,
   "metadata": {},
   "outputs": [],
   "source": []
  }
 ],
 "metadata": {
  "kernelspec": {
   "display_name": "Python 3",
   "language": "python",
   "name": "python3"
  },
  "language_info": {
   "codemirror_mode": {
    "name": "ipython",
    "version": 3
   },
   "file_extension": ".py",
   "mimetype": "text/x-python",
   "name": "python",
   "nbconvert_exporter": "python",
   "pygments_lexer": "ipython3",
   "version": "3.8.5"
  }
 },
 "nbformat": 4,
 "nbformat_minor": 5
}
