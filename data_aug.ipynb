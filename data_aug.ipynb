{
 "cells": [
  {
   "cell_type": "code",
   "execution_count": 1,
   "metadata": {},
   "outputs": [],
   "source": [
    "import json\n",
    "\n",
    "with open('3_in_1/cnnatt_x.json') as file_obj:\n",
    "    x = json.load(file_obj)\n",
    "with open('3_in_1/cnnatt_y.json') as file_obj:\n",
    "    y = json.load(file_obj)"
   ]
  },
  {
   "cell_type": "code",
   "execution_count": 2,
   "metadata": {},
   "outputs": [],
   "source": [
    "for_aug = []\n",
    "for i, xx in enumerate(x):\n",
    "    if y[i] == 'barrier':\n",
    "        for_aug.append(xx)"
   ]
  },
  {
   "cell_type": "code",
   "execution_count": 3,
   "metadata": {},
   "outputs": [],
   "source": [
    "from gensim.models import Word2Vec\n",
    "import numpy as np\n",
    "\n",
    "w2v_model = Word2Vec.load(\"models/pretrained_embeddings\")"
   ]
  },
  {
   "cell_type": "code",
   "execution_count": 4,
   "metadata": {},
   "outputs": [],
   "source": [
    "import nltk\n",
    "\n",
    "def return_aug(single_sen_list):\n",
    "    new_sen = []\n",
    "    for i, s in enumerate(nltk.pos_tag(single_sen_list)):\n",
    "        # print(s[0], s[1])\n",
    "        nw = s[0]\n",
    "        if w2v_model.wv.__contains__(s[0]) and (s[1].startswith('V') or s[1].startswith('N') or s[1].startswith('R') or s[1].startswith('J')):\n",
    "            nw = w2v_model.wv.most_similar(s[0])[0][0]\n",
    "        new_sen.append(nw)\n",
    "    return new_sen"
   ]
  },
  {
   "cell_type": "code",
   "execution_count": 5,
   "metadata": {},
   "outputs": [
    {
     "name": "stderr",
     "output_type": "stream",
     "text": [
      "100%|██████████| 1586/1586 [08:52<00:00,  2.98it/s]\n"
     ]
    }
   ],
   "source": [
    "from tqdm import tqdm\n",
    "\n",
    "augmented_opinions = []\n",
    "for o in tqdm(for_aug):\n",
    "    # print(o)\n",
    "    return_o = return_aug(o)\n",
    "    augmented_opinions.append(return_o)\n",
    "    # print(return_o)"
   ]
  },
  {
   "cell_type": "code",
   "execution_count": 6,
   "metadata": {},
   "outputs": [],
   "source": [
    "json_str = json.dumps(augmented_opinions, indent=4)\n",
    "with open('3_in_1/augmented_barrier.json', 'w', encoding='utf-8') as json_file:\n",
    "    json_file.write(json_str)"
   ]
  },
  {
   "cell_type": "code",
   "execution_count": null,
   "metadata": {},
   "outputs": [],
   "source": []
  }
 ],
 "metadata": {
  "kernelspec": {
   "display_name": "Python 3",
   "language": "python",
   "name": "python3"
  },
  "language_info": {
   "codemirror_mode": {
    "name": "ipython",
    "version": 3
   },
   "file_extension": ".py",
   "mimetype": "text/x-python",
   "name": "python",
   "nbconvert_exporter": "python",
   "pygments_lexer": "ipython3",
   "version": "3.8.5"
  }
 },
 "nbformat": 4,
 "nbformat_minor": 5
}
