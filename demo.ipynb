{
 "cells": [
  {
   "cell_type": "markdown",
   "id": "8a8898e6",
   "metadata": {},
   "source": [
    "# Reproduce results of trained CNN & CNN-Attention models "
   ]
  },
  {
   "cell_type": "code",
   "execution_count": 2,
   "id": "26f9165f",
   "metadata": {},
   "outputs": [
    {
     "name": "stdout",
     "output_type": "stream",
     "text": [
      "train sample: 19952\n",
      "dev sample: 1050\n",
      "test sample: 1105\n",
      "Counter({'non-opinion': 11746, 'opinion': 8206})\n",
      "Counter({'non-opinion': 612, 'opinion': 438})\n",
      "Counter({'non-opinion': 642, 'opinion': 463})\n"
     ]
    },
    {
     "name": "stderr",
     "output_type": "stream",
     "text": [
      "2023-08-12 01:17:57,358 [DEBUG] kashgari - ------------------------------------------------\n",
      "2023-08-12 01:17:57,358 [DEBUG] kashgari - Loaded gensim word2vec model's vocab\n",
      "2023-08-12 01:17:57,359 [DEBUG] kashgari - model        : mat_embedding3/vectors.txt\n",
      "2023-08-12 01:17:57,359 [DEBUG] kashgari - word count   : 529690\n",
      "2023-08-12 01:17:57,360 [DEBUG] kashgari - Top 50 words : ['the', 'of', '.', ',', 'and', '<nUm>', 'in', 'a', 'to', ')', '(', 'with', '-', 'for', 'is', 'by', 'on', 'was', 'at', 'were', 'that', '–', 'as', 'are', 'from', '/', 'an', 'temperature', 'surface', 'using', 'high', 'which', 'C', '°', 'this', '%', 'In', 'it', 'A', '=', 'structure', 'properties', ':', 'phase', 'results', 'effect', 'these', 'than', 'based', 'different']\n",
      "2023-08-12 01:17:57,361 [DEBUG] kashgari - ------------------------------------------------\n",
      "2023-08-12 01:17:59,468 [WARNING] kashgari - Sequence length is None, will use the max length of the samples, which is 282\n"
     ]
    },
    {
     "name": "stdout",
     "output_type": "stream",
     "text": [
      "              precision    recall  f1-score   support\n",
      "\n",
      " non-opinion     0.9446    0.9564    0.9505       642\n",
      "     opinion     0.9385    0.9222    0.9303       463\n",
      "\n",
      "    accuracy                         0.9421      1105\n",
      "   macro avg     0.9415    0.9393    0.9404      1105\n",
      "weighted avg     0.9420    0.9421    0.9420      1105\n",
      "\n"
     ]
    },
    {
     "data": {
      "text/plain": [
       "{'detail': {'non-opinion': {'precision': 0.9446153846153846,\n",
       "   'recall': 0.956386292834891,\n",
       "   'f1-score': 0.9504643962848297,\n",
       "   'support': 642},\n",
       "  'opinion': {'precision': 0.9384615384615385,\n",
       "   'recall': 0.9222462203023758,\n",
       "   'f1-score': 0.9302832244008714,\n",
       "   'support': 463},\n",
       "  'accuracy': 0.9420814479638009,\n",
       "  'macro avg': {'precision': 0.9415384615384615,\n",
       "   'recall': 0.9393162565686334,\n",
       "   'f1-score': 0.9403738103428505,\n",
       "   'support': 1105},\n",
       "  'weighted avg': {'precision': 0.9420368952314654,\n",
       "   'recall': 0.9420814479638009,\n",
       "   'f1-score': 0.9420083939479313,\n",
       "   'support': 1105}},\n",
       " 'precision': 0.9420368952314654,\n",
       " 'recall': 0.9420814479638009,\n",
       " 'f1-score': 0.9420083939479313,\n",
       " 'support': 1105}"
      ]
     },
     "execution_count": 2,
     "metadata": {},
     "output_type": "execute_result"
    }
   ],
   "source": [
    "import json\n",
    "from collections import Counter\n",
    "from sklearn.model_selection import train_test_split\n",
    "import kashgari\n",
    "from kashgari.tasks.classification import CNN_Attention_Model, CNN_Model\n",
    "\n",
    "# load mixed-topic dataset with opinion/non-opinion annotation\n",
    "with open('data/3_in_1/cnn_x.json', 'r', encoding='utf-8') as f:\n",
    "    store_x = json.load(f)\n",
    "with open('data/3_in_1/cnn_y.json', 'r', encoding='utf-8') as f:\n",
    "    store_y = json.load(f)\n",
    "with open('data/3_in_1/testcnn_x.json', 'r', encoding='utf-8') as f:\n",
    "    test_x = json.load(f)\n",
    "with open('data/3_in_1/testcnn_y.json', 'r', encoding='utf-8') as f:\n",
    "    test_y = json.load(f)  \n",
    "\n",
    "# split train & dev set\n",
    "valid_x, train_x, valid_y, train_y = train_test_split(store_x, store_y, test_size=0.95, random_state=42)\n",
    "\n",
    "print(f\"train sample: {len(train_x)}\")\n",
    "print(f\"dev sample: {len(valid_x)}\")\n",
    "print(f\"test sample: {len(test_x)}\")\n",
    "print(Counter(train_y))\n",
    "print(Counter(valid_y))\n",
    "print(Counter(test_y))\n",
    "\n",
    "# will spend about 2 minutes\n",
    "load_CNN = CNN_Model.load_model('data/CNN_94_95_93')\n",
    "load_CNN.evaluate(test_x, test_y)"
   ]
  },
  {
   "cell_type": "code",
   "execution_count": 3,
   "id": "dc4ceffc",
   "metadata": {},
   "outputs": [
    {
     "name": "stdout",
     "output_type": "stream",
     "text": [
      "train sample: 9224\n",
      "dev sample: 912\n",
      "test sample: 950\n",
      "Counter({'driver': 6337, 'barrier': 2887})\n",
      "Counter({'driver': 627, 'barrier': 285})\n",
      "Counter({'driver': 774, 'barrier': 176})\n"
     ]
    },
    {
     "name": "stderr",
     "output_type": "stream",
     "text": [
      "2023-08-12 01:19:43,796 [DEBUG] kashgari - ------------------------------------------------\n",
      "2023-08-12 01:19:43,797 [DEBUG] kashgari - Loaded gensim word2vec model's vocab\n",
      "2023-08-12 01:19:43,797 [DEBUG] kashgari - model        : mat_embedding3/vectors.txt\n",
      "2023-08-12 01:19:43,798 [DEBUG] kashgari - word count   : 529690\n",
      "2023-08-12 01:19:43,799 [DEBUG] kashgari - Top 50 words : ['the', 'of', '.', ',', 'and', '<nUm>', 'in', 'a', 'to', ')', '(', 'with', '-', 'for', 'is', 'by', 'on', 'was', 'at', 'were', 'that', '–', 'as', 'are', 'from', '/', 'an', 'temperature', 'surface', 'using', 'high', 'which', 'C', '°', 'this', '%', 'In', 'it', 'A', '=', 'structure', 'properties', ':', 'phase', 'results', 'effect', 'these', 'than', 'based', 'different']\n",
      "2023-08-12 01:19:43,799 [DEBUG] kashgari - ------------------------------------------------\n",
      "2023-08-12 01:19:45,787 [WARNING] kashgari - Sequence length is None, will use the max length of the samples, which is 171\n"
     ]
    },
    {
     "name": "stdout",
     "output_type": "stream",
     "text": [
      "              precision    recall  f1-score   support\n",
      "\n",
      "     barrier     0.7727    0.7727    0.7727       176\n",
      "      driver     0.9483    0.9483    0.9483       774\n",
      "\n",
      "    accuracy                         0.9158       950\n",
      "   macro avg     0.8605    0.8605    0.8605       950\n",
      "weighted avg     0.9158    0.9158    0.9158       950\n",
      "\n"
     ]
    },
    {
     "data": {
      "text/plain": [
       "{'detail': {'barrier': {'precision': 0.7727272727272727,\n",
       "   'recall': 0.7727272727272727,\n",
       "   'f1-score': 0.7727272727272727,\n",
       "   'support': 176},\n",
       "  'driver': {'precision': 0.9483204134366925,\n",
       "   'recall': 0.9483204134366925,\n",
       "   'f1-score': 0.9483204134366925,\n",
       "   'support': 774},\n",
       "  'accuracy': 0.9157894736842105,\n",
       "  'macro avg': {'precision': 0.8605238430819826,\n",
       "   'recall': 0.8605238430819826,\n",
       "   'f1-score': 0.8605238430819826,\n",
       "   'support': 950},\n",
       "  'weighted avg': {'precision': 0.9157894736842105,\n",
       "   'recall': 0.9157894736842105,\n",
       "   'f1-score': 0.9157894736842105,\n",
       "   'support': 950}},\n",
       " 'precision': 0.9157894736842105,\n",
       " 'recall': 0.9157894736842105,\n",
       " 'f1-score': 0.9157894736842105,\n",
       " 'support': 950}"
      ]
     },
     "execution_count": 3,
     "metadata": {},
     "output_type": "execute_result"
    }
   ],
   "source": [
    "# load mixed-topic dataset with opportunity(driver)/challenges(barrier) annotation\n",
    "with open('data/3_in_1/cnnatt_x.json', 'r', encoding='utf-8') as f:\n",
    "    x_data = json.load(f)\n",
    "with open('data/3_in_1/cnnatt_y.json', 'r', encoding='utf-8') as f:\n",
    "    y_data = json.load(f)\n",
    "with open('data/3_in_1/testcnnatt_x.json', 'r', encoding='utf-8') as f:\n",
    "    test_x = json.load(f)\n",
    "with open('data/3_in_1/testcnnatt_y.json', 'r', encoding='utf-8') as f:\n",
    "    test_y = json.load(f)\n",
    "    \n",
    "# add augmented data by SMOTE\n",
    "with open('data/3_in_1/augmented_barrier.json') as file_obj:\n",
    "    barrier = json.load(file_obj)\n",
    "    length = len(barrier)\n",
    "    x_data.extend(barrier)\n",
    "    tmp = ['barrier']*length\n",
    "    y_data.extend(tmp)\n",
    "\n",
    "# split train & dev set\n",
    "valid_x, train_x, valid_y, train_y = train_test_split(x_data, y_data, stratify=y_data, test_size=0.91, random_state=42)\n",
    "\n",
    "print(f\"train sample: {len(train_x)}\")\n",
    "print(f\"dev sample: {len(valid_x)}\")\n",
    "print(f\"test sample: {len(test_x)}\")\n",
    "print(Counter(train_y))\n",
    "print(Counter(valid_y))\n",
    "print(Counter(test_y))\n",
    "\n",
    "load_CNN_Attention = CNN_Attention_Model.load_model('data/CNN_Attention_91')\n",
    "load_CNN_Attention.evaluate(test_x, test_y)"
   ]
  },
  {
   "cell_type": "markdown",
   "id": "e20fb4b3",
   "metadata": {},
   "source": [
    "# Apply opinion mining to plain text"
   ]
  },
  {
   "cell_type": "code",
   "execution_count": 4,
   "id": "0ab2324c",
   "metadata": {},
   "outputs": [],
   "source": [
    "# load a tiny text sample with opinions\n",
    "with open('data/text.txt', 'r') as f:\n",
    "    text = f.read()\n",
    "text = text.replace('\\n', ' ')"
   ]
  },
  {
   "cell_type": "code",
   "execution_count": 5,
   "id": "359c9990",
   "metadata": {},
   "outputs": [
    {
     "name": "stdout",
     "output_type": "stream",
     "text": [
      "['Owing', 'to', 'the', 'importance', 'of', 'surface', 'passivation', 'to', 'BSi', ',', 'major', 'passivation', 'techniques', 'using', 'SiNx', ',', 'thermal', 'oxide', ',', 'Al2O3', 'and', 'a-Si', 'have', 'been', 'critically', 'examined', '.']\n",
      "['It', 'is', 'found', 'that', 'atomic', 'layer', 'deposited', 'Al2O3', 'offers', 'excellent', 'surface', 'conformality', 'and', 'passivation', 'to', 'the', 'silicon', 'surface', ',', 'especially', 'on', 'p+-emitters', '.']\n",
      "['With', 'ALD', 'Al2O3', 'passivation', ',', 'a', 'record', 'high', '18.7', '%', 'efficient', 'BSi', 'solar', 'cell', 'has', 'been', 'successfully', 'fabricated', '.']\n",
      "['As', 'the', 'market', 'share', 'of', 'n-type', 'solar', 'cells', '(', 'with', 'p+-emitters', ')', 'is', 'expected', 'to', 'rise', 'in', 'the', 'near', 'future', ',', 'this', 'passivation', 'technique', 'is', 'particularly', 'attractive', 'and', 'may', 'become', 'a', 'new', 'industry', 'standard', '.']\n",
      "['Unfortunately', ',', 'the', 'poor', 'capacity', 'stability', ',', 'especially', 'at', 'elevated', 'temperature', ',', 'hinders', 'its', 'practical', 'utilization', '.']\n",
      "['However', ',', 'the', 'shuttling', 'effect', 'caused', 'by', 'the', 'dissolution', 'of', 'polysulfides', 'seriously', 'degrades', 'their', 'electrochemical', 'performance', '.']\n",
      "['Numerous', 'Li-ion', 'conducting', 'solids', 'are', 'known', 'today', ',', 'however', 'the', 'stability', 'of', 'most', 'of', 'these', 'is', 'too', 'low', 'to', 'engender', 'widespread', 'usage', '.']\n",
      "['Lithium', 'transition', 'metal', 'oxides', 'are', 'prevalent', 'cathode', 'materials', 'currently', ',', 'but', 'they', 'face', 'great', 'challenges', 'due', 'to', 'unsatisfactory', 'energy', 'density', ',', 'chemical/electrochemical', 'instability', ',', 'and', 'elemental', 'scarcity', 'concerns', '.']\n",
      "['This', 'synergistic', 'control', 'of', 'nano-/macro-structures', 'is', 'a', 'promising', 'concept', 'for', 'enhancing', 'battery', 'performance', 'and', 'its', 'cycle', 'life', '.']\n"
     ]
    }
   ],
   "source": [
    "import nltk # if no nltk, use split('. ')\n",
    "\n",
    "# 1. segmentation + tokenization\n",
    "def sen_seg(data): \n",
    "    sens = []\n",
    "    to_replace = ['et al. ', 'Fig. ', 'e.g. ', 'i.e. ', 'Ref. ', 'Figs. ', ' ca. ', 'approx. ', '(ca. ', 'etc.) ']\n",
    "    for tr in to_replace:\n",
    "        data = data.replace(tr, tr[:-2]+'####@')\n",
    "    tmp = nltk.sent_tokenize(data)\n",
    "    # tmp = data.split('. ')\n",
    "    for i, t in enumerate(tmp):\n",
    "        for tr in to_replace:\n",
    "            t = t.replace(tr[:-2]+'####@', tr)\n",
    "        tmp[i] = t\n",
    "    for t in tmp:\n",
    "        sens.append(nltk.word_tokenize(t))\n",
    "        # sens.append(t.split(' '))\n",
    "    return sens\n",
    "\n",
    "sens = sen_seg(text)\n",
    "for t in sens:\n",
    "    print(t)"
   ]
  },
  {
   "cell_type": "code",
   "execution_count": 7,
   "id": "3075da91",
   "metadata": {},
   "outputs": [
    {
     "name": "stdout",
     "output_type": "stream",
     "text": [
      "7 opinions are found by CNN\n",
      "[['It', 'is', 'found', 'that', 'atomic', 'layer', 'deposited', 'Al2O3', 'offers', 'excellent', 'surface', 'conformality', 'and', 'passivation', 'to', 'the', 'silicon', 'surface', ',', 'especially', 'on', 'p+-emitters', '.'], ['As', 'the', 'market', 'share', 'of', 'n-type', 'solar', 'cells', '(', 'with', 'p+-emitters', ')', 'is', 'expected', 'to', 'rise', 'in', 'the', 'near', 'future', ',', 'this', 'passivation', 'technique', 'is', 'particularly', 'attractive', 'and', 'may', 'become', 'a', 'new', 'industry', 'standard', '.'], ['Unfortunately', ',', 'the', 'poor', 'capacity', 'stability', ',', 'especially', 'at', 'elevated', 'temperature', ',', 'hinders', 'its', 'practical', 'utilization', '.'], ['However', ',', 'the', 'shuttling', 'effect', 'caused', 'by', 'the', 'dissolution', 'of', 'polysulfides', 'seriously', 'degrades', 'their', 'electrochemical', 'performance', '.'], ['Numerous', 'Li-ion', 'conducting', 'solids', 'are', 'known', 'today', ',', 'however', 'the', 'stability', 'of', 'most', 'of', 'these', 'is', 'too', 'low', 'to', 'engender', 'widespread', 'usage', '.'], ['Lithium', 'transition', 'metal', 'oxides', 'are', 'prevalent', 'cathode', 'materials', 'currently', ',', 'but', 'they', 'face', 'great', 'challenges', 'due', 'to', 'unsatisfactory', 'energy', 'density', ',', 'chemical/electrochemical', 'instability', ',', 'and', 'elemental', 'scarcity', 'concerns', '.'], ['This', 'synergistic', 'control', 'of', 'nano-/macro-structures', 'is', 'a', 'promising', 'concept', 'for', 'enhancing', 'battery', 'performance', 'and', 'its', 'cycle', 'life', '.']]\n"
     ]
    }
   ],
   "source": [
    "# 2. apply opinion extraction\n",
    "find_opinion = []\n",
    "result = load_CNN.predict(sens)\n",
    "for i, tx in enumerate(sens):\n",
    "    if result[i] == 'opinion':\n",
    "        find_opinion.append(tx)\n",
    "        \n",
    "print(len(find_opinion), 'opinions are found by CNN')\n",
    "print(find_opinion)"
   ]
  },
  {
   "cell_type": "markdown",
   "id": "09589a6d",
   "metadata": {},
   "source": [
    "## Optional corpus comparison method to add/remove opinions to certain ratio\n",
    "### Note: If you don't need this part, just skip it and run next cell"
   ]
  },
  {
   "cell_type": "code",
   "execution_count": 42,
   "id": "ef57f85b",
   "metadata": {},
   "outputs": [
    {
     "name": "stdout",
     "output_type": "stream",
     "text": [
      "Too many opinions, so rank & remove low score opinion\n",
      "1 opinions found in total by 0.25 * 4\n",
      "[['As', 'the', 'market', 'share', 'of', 'n-type', 'solar', 'cells', '(', 'with', 'p+-emitters', ')', 'is', 'expected', 'to', 'rise', 'in', 'the', 'near', 'future', ',', 'this', 'passivation', 'technique', 'is', 'particularly', 'attractive', 'and', 'may', 'become', 'a', 'new', 'industry', 'standard', '.']]\n"
     ]
    }
   ],
   "source": [
    "# optional function: corpus comparison to adjust number of opinions\n",
    "def rank_opinion_by_lexicon(sens, lexicon_file):\n",
    "    words_md = ['could', 'may', 'would', 'must', 'might', 'shall', 'ought', 'can']\n",
    "    score_dic = {}\n",
    "    with open(lexicon_file) as file_obj:\n",
    "        pri_list = json.load(file_obj)\n",
    "    for i, s in enumerate(sens):\n",
    "        score = 0\n",
    "        for ss in s:\n",
    "            if ss.lower() in pri_list or ss in pri_list:\n",
    "                score += 1\n",
    "            if ss.lower() in words_md:\n",
    "                score += 2\n",
    "        score_dic[i] = score\n",
    "    \n",
    "    sorted_dic = sorted(score_dic.items(), key=lambda item:item[1], reverse=True)\n",
    "    rank_opinion = []\n",
    "    for sd in sorted_dic:\n",
    "        rank_opinion.append(sens[sd[0]])\n",
    "    return rank_opinion\n",
    "\n",
    "\n",
    "RATE = 0.25 # a threshold which can be set by user, if whole page, 0.1-0.2 is rather suitable\n",
    "support_opinion = rank_opinion_by_lexicon(sens, 'data/final_200.json')\n",
    "need_length = int(RATE * len(sens))\n",
    "count = 0\n",
    "tmp = []\n",
    "if len(find_opinion) >= need_length:\n",
    "    print('Too many opinions, so rank & remove low score opinion')\n",
    "    for so in support_opinion:\n",
    "        if so in find_opinion:\n",
    "            tmp.append(so)\n",
    "            if len(tmp)==need_length:\n",
    "                break\n",
    "else: \n",
    "    print('Too few opinions, add high score candidate')\n",
    "    rest = [x for x in support_opinion if x not in find_opinion]\n",
    "    tmp.extend(find_opinion)\n",
    "    tmp.extend(rest[:need_length-len(find_opinion)])\n",
    "\n",
    "find_opinion = tmp\n",
    "        \n",
    "print(len(find_opinion), 'opinions found in total by', RATE, '*', str(len(sens)))\n",
    "print(find_opinion)"
   ]
  },
  {
   "cell_type": "code",
   "execution_count": 8,
   "id": "090655c9",
   "metadata": {},
   "outputs": [
    {
     "name": "stdout",
     "output_type": "stream",
     "text": [
      "3 opportunities are found by CNN-Attention.\n",
      "It is found that atomic layer deposited Al2O3 offers excellent surface conformality and passivation to the silicon surface , especially on p+-emitters .\n",
      "As the market share of n-type solar cells ( with p+-emitters ) is expected to rise in the near future , this passivation technique is particularly attractive and may become a new industry standard .\n",
      "This synergistic control of nano-/macro-structures is a promising concept for enhancing battery performance and its cycle life .\n",
      "\n",
      "\n",
      "4 challenges are found by CNN-Attention.\n",
      "Unfortunately , the poor capacity stability , especially at elevated temperature , hinders its practical utilization .\n",
      "However , the shuttling effect caused by the dissolution of polysulfides seriously degrades their electrochemical performance .\n",
      "Numerous Li-ion conducting solids are known today , however the stability of most of these is too low to engender widespread usage .\n",
      "Lithium transition metal oxides are prevalent cathode materials currently , but they face great challenges due to unsatisfactory energy density , chemical/electrochemical instability , and elemental scarcity concerns .\n"
     ]
    }
   ],
   "source": [
    "# 2. apply opinion classification\n",
    "find_opps = []\n",
    "find_chas = []\n",
    "result = load_CNN_Attention.predict(find_opinion)\n",
    "for i, tx in enumerate(find_opinion):\n",
    "    if result[i] == 'driver':\n",
    "        find_opps.append(tx)\n",
    "    else:\n",
    "        find_chas.append(tx)\n",
    "        \n",
    "print(len(find_opps), 'opportunities are found by CNN-Attention.')\n",
    "for fo in find_opps:\n",
    "    print(' '.join(fo))\n",
    "print('\\n')\n",
    "print(len(find_chas), 'challenges are found by CNN-Attention.')\n",
    "for fc in find_chas:\n",
    "    print(' '.join(fc))"
   ]
  },
  {
   "cell_type": "markdown",
   "id": "5c5d17d8",
   "metadata": {},
   "source": [
    "## In the ALD real case, these sentence were found in SSNet results. We identified Li in the sentence and we traced their information in meta data records as shown in follows:"
   ]
  },
  {
   "cell_type": "markdown",
   "id": "a5ce2bf1",
   "metadata": {},
   "source": [
    "\"Unfortunately , the poor capacity stability , especially at elevated temperature , hinders its practical utilization .\": {\n",
    "        \"time\": \"2018\",\n",
    "        \"id\": \"LITHIUM-ION BATTERIES; CATHODE MATERIALS; SURFACE MODIFICATION; CYCLING\",\n",
    "        \"mat\": [\n",
    "            \"lithium\"\n",
    "        ],\n",
    "        \"attitude\": \"barrier\",\n",
    "        \"doi\": \"10.1021/acssuschemeng.8b01081\"\n",
    "    },\n",
    "\n",
    "\"However , the shuttling effect caused by the dissolution of polysulfides seriously degrades their electrochemical performance .\": {\n",
    "        \"time\": \"2018\",\n",
    "        \"id\": \"ATOMIC LAYER DEPOSITION; LI-S BATTERIES; CARBON NANOTUBES;\",\n",
    "        \"mat\": [\n",
    "            \"Li\"\n",
    "        ],\n",
    "        \"attitude\": \"barrier\",\n",
    "        \"doi\": \"10.1007/s10008-017-3818-6\"\n",
    "    },\n",
    "    \n",
    "\"Numerous Li-ion conducting solids are known today , however the stability of most of these is too low to engender widespread usage .\": {\n",
    "        \"time\": \"2018\",\n",
    "        \"id\": \"ATOMIC LAYER DEPOSITION; SOLID-STATE BATTERIES; IONIC-CONDUCTIVITY;\",\n",
    "        \"mat\": [\n",
    "            \"Li\"\n",
    "        ],\n",
    "        \"attitude\": \"barrier\",\n",
    "        \"doi\": \"10.1039/c7ta07928a\"\n",
    "    },\n",
    "    \n",
    "\"Lithium transition metal oxides are prevalent cathode materials currently , but they face great challenges due to unsatisfactory energy density , chemical/electrochemical instability , and elemental scarcity concerns .\": {\n",
    "        \"time\": \"2018\",\n",
    "        \"id\": \"ATOMIC LAYER DEPOSITION; LI-ION BATTERIES; HIGH-PERFORMANCE CATHODE;\",\n",
    "        \"mat\": [\n",
    "            \"Lithium transition metal oxides\"\n",
    "        ],\n",
    "        \"attitude\": \"barrier\",\n",
    "        \"doi\": \"10.1002/aenm.201802057\"\n",
    "    },\n",
    "    \n",
    "\"This synergistic control of nano-/macro-structures is a promising concept for enhancing battery performance and its cycle life .\": {\n",
    "        \"time\": \"2019\",\n",
    "        \"id\": \"CATHODE MATERIAL; CAPACITY; LINI0.5MN1.5O4; MECHANISM; SHAPE\",\n",
    "        \"mat\": [\n",
    "            \"LiMn1.5Ni0.5O4\"\n",
    "        ],\n",
    "        \"attitude\": \"driver\",\n",
    "        \"doi\": \"10.1002/batt.201800091\"\n",
    "    }"
   ]
  },
  {
   "cell_type": "code",
   "execution_count": null,
   "id": "a33d677c",
   "metadata": {},
   "outputs": [],
   "source": []
  }
 ],
 "metadata": {
  "kernelspec": {
   "display_name": "Python 3",
   "language": "python",
   "name": "python3"
  },
  "language_info": {
   "codemirror_mode": {
    "name": "ipython",
    "version": 3
   },
   "file_extension": ".py",
   "mimetype": "text/x-python",
   "name": "python",
   "nbconvert_exporter": "python",
   "pygments_lexer": "ipython3",
   "version": "3.8.8"
  }
 },
 "nbformat": 4,
 "nbformat_minor": 5
}
