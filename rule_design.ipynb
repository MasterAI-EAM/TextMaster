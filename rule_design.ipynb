{
 "cells": [
  {
   "cell_type": "code",
   "execution_count": 1,
   "metadata": {},
   "outputs": [
    {
     "name": "stdout",
     "output_type": "stream",
     "text": [
      "281\n"
     ]
    }
   ],
   "source": [
    "import import_ipynb\n",
    "from matscholar import MatScholarProcess\n",
    "\n",
    "def process_file(text):\n",
    "    zt_answer = {}\n",
    "    for i, z in enumerate(text):\n",
    "        z_split = z.split(', ')\n",
    "        if z_split[1] != 'NaN':\n",
    "            mat_name = z_split[0][1:-1]\n",
    "            mat_rec = float(z_split[1])\n",
    "            if mat_name in zt_answer.keys():\n",
    "                if mat_rec > zt_answer[mat_name]:\n",
    "                    zt_answer[mat_name] = mat_rec\n",
    "            else:\n",
    "                zt_answer[mat_name] = mat_rec\n",
    "\n",
    "    sorted_zt = sorted(zt_answer.items(), key=lambda item: item[1], reverse=True)\n",
    "    zt_rank = {}\n",
    "    rank = 1\n",
    "    processor = MatScholarProcess()\n",
    "    for s in sorted_zt:\n",
    "        processed, _ = processor.process(s[0])\n",
    "        if processed[0] not in zt_rank.keys():\n",
    "            zt_rank[processed[0]] = {}\n",
    "            zt_rank[processed[0]]['rank'] = rank\n",
    "            zt_rank[processed[0]]['value'] = s[1]\n",
    "            rank += 1\n",
    "    return zt_rank\n",
    "\n",
    "with open('PF.txt', 'r', encoding='utf-8') as f:\n",
    "    pf = str(f.readlines())\n",
    "pf_split = pf[4:-4].split('], [')\n",
    "pf_rank = process_file(pf_split)\n",
    "print(len(pf_rank))\n",
    "# 281 in max power factor: # 1 Bi2Te3 0.006728 # 2 Co2NaO4 0.0066667 # 3 HfNi4Sn4Ti2Zr 0.0065971"
   ]
  },
  {
   "cell_type": "code",
   "execution_count": 1,
   "metadata": {},
   "outputs": [
    {
     "name": "stdout",
     "output_type": "stream",
     "text": [
      "77593\n"
     ]
    }
   ],
   "source": [
    "import json\n",
    "with open('smaller_3.json', 'r', encoding='utf-8') as f:\n",
    "    smaller = json.load(f)\n",
    "print(len(smaller))"
   ]
  },
  {
   "cell_type": "code",
   "execution_count": 5,
   "metadata": {},
   "outputs": [
    {
     "name": "stdout",
     "output_type": "stream",
     "text": [
      "83\n"
     ]
    }
   ],
   "source": [
    "# output_sims\n",
    "# embbeding_sims\n",
    "with open('output_sims.json', 'r', encoding='utf-8') as f:\n",
    "    sims = json.load(f)\n",
    "\n",
    "sim_dict = {}\n",
    "rank = 1\n",
    "for s in sims:\n",
    "    if s[0] in pf_rank.keys() and s[0] not in smaller:\n",
    "        sim_dict[s[0]] = {}\n",
    "        sim_dict[s[0]]['rank'] = rank\n",
    "        sim_dict[s[0]]['value'] = s[1]\n",
    "        rank += 1\n",
    "print(len(sim_dict.keys()))"
   ]
  },
  {
   "cell_type": "code",
   "execution_count": 6,
   "metadata": {},
   "outputs": [
    {
     "name": "stdout",
     "output_type": "stream",
     "text": [
      "83\n"
     ]
    }
   ],
   "source": [
    "sim_in_pf = {}\n",
    "r = 1\n",
    "for p in pf_rank.keys():\n",
    "    if p in sim_dict.keys() and p not in smaller:\n",
    "        sim_in_pf[p] = r\n",
    "        r += 1\n",
    "print(len(sim_in_pf.keys()))"
   ]
  },
  {
   "cell_type": "code",
   "execution_count": 7,
   "metadata": {},
   "outputs": [
    {
     "name": "stdout",
     "output_type": "stream",
     "text": [
      "83\n"
     ]
    }
   ],
   "source": [
    "ori = []\n",
    "answer = []\n",
    "for i in sim_in_pf.keys():\n",
    "    ori.append(sim_dict[i]['rank'])\n",
    "    answer.append(sim_in_pf[i])\n",
    "print(len(ori))"
   ]
  },
  {
   "cell_type": "code",
   "execution_count": 8,
   "metadata": {},
   "outputs": [
    {
     "data": {
      "text/plain": [
       "SpearmanrResult(correlation=0.6576130305192895, pvalue=1.4413891254169311e-11)"
      ]
     },
     "execution_count": 8,
     "metadata": {},
     "output_type": "execute_result"
    }
   ],
   "source": [
    "from scipy import stats\n",
    "stats.spearmanr(ori, answer)"
   ]
  },
  {
   "cell_type": "code",
   "execution_count": 2,
   "metadata": {},
   "outputs": [],
   "source": [
    "with open('fre_dis.json', 'r', encoding='utf-8') as f:\n",
    "    fre_dis = json.load(f)"
   ]
  },
  {
   "cell_type": "code",
   "execution_count": 4,
   "metadata": {},
   "outputs": [
    {
     "name": "stdout",
     "output_type": "stream",
     "text": [
      "{'p_t': 759, 'p_10': 0.2608695652173913, 'p11_13': 0.16073781291172595, 'p14_16': 0.14756258234519104, 'p17_19': 0.22793148880105402, 'p20_21': 0.2015810276679842, 'd': 0.9077733860342556, 'd_10': 0.9393939393939394, 'd11_13': 0.9016393442622951, 'd14_16': 0.875, 'd17_19': 0.9017341040462428, 'd20_21': 0.9019607843137255}\n"
     ]
    }
   ],
   "source": [
    "print(fre_dis['Bi2Te3'])"
   ]
  },
  {
   "cell_type": "code",
   "execution_count": 10,
   "metadata": {},
   "outputs": [
    {
     "name": "stdout",
     "output_type": "stream",
     "text": [
      "dict_keys(['p_t', 'p_10', 'p11_13', 'p14_16', 'p17_19', 'p20_21', 'd', 'd_10', 'd11_13', 'd14_16', 'd17_19', 'd20_21'])\n",
      "CuNd2O4 71 70 0.0 0.5\n"
     ]
    }
   ],
   "source": [
    "for i in sim_in_pf.keys():\n",
    "    if i in fre_dis.keys() and i not in smaller:\n",
    "        if fre_dis[i]['p_t'] > 3 and fre_dis[i]['p20_21'] == 0 and fre_dis[i]['d'] <= 0.7:\n",
    "            print(fre_dis[i].keys())\n",
    "            print(i, sim_dict[i]['rank'], sim_in_pf[i], fre_dis[i]['p20_21'], fre_dis[i]['d'])"
   ]
  },
  {
   "cell_type": "code",
   "execution_count": null,
   "metadata": {},
   "outputs": [],
   "source": [
    "# 如果p_t < 4, freq 20_21 + freq 17_19 = 1，d > 0.9, 往前放-10 \n",
    "Bi9Sb 22 8 1.0 1.0\n",
    "\n",
    "# 如果p_t < 4, d < 1，freq 20_21 and freq 17_19 = 0 and d < 0.7 往后放+10 \n",
    "Nd2O7Ru2 69 76 0.0 0.5\n",
    "\n",
    "# 如果p_t > 3, freq 20_21 >= 0.25\n",
    "# 如果d > 0.9, 往前放20\n",
    "GeSi4 58 24 0.2857142857142857 1.0\n",
    "# 如果0.7 < d <= 0.9, 往前放10\n",
    "Cu2Se 36 35 0.4198019801980198 0.8653465346534653\n",
    "CaMnO3 44 47 0.25139664804469275 0.8491620111731844\n",
    "Bi22Sb3 30 5 0.2857142857142857 0.7142857142857143\n",
    "\n",
    "# 如果p_t > 3, freq 20_21 = 0\n",
    "# 如果d > 0.9, 往后放10\n",
    "Bi8K2Se13 14 33 0.0 1.0\n",
    "BaO3Pb 64 56 0.0 1.0\n",
    "CuO2Rh 37 61 0.0 1.0\n",
    "Al2Ca5Sb6 23 66 0.0 0.9772727272727273\n",
    "# 其余往后放20\n",
    "CeCoFe3Sb12 3 19 0.0 0.75\n",
    "CoFe3LaSb12 17 27 0.0 0.8888888888888888\n",
    "CeFe4Sb12 35 28 0.0 0.8571428571428571\n",
    "Ce2CoFe7Sb24 18 41 0.0 0.75\n",
    "Ca9Mn10O30Yb 20 53 0.0 0.8260869565217391\n",
    "CuLa2O4 60 65 0.0 0.875\n",
    "CuNd2O4 71 70 0.0 0.5"
   ]
  },
  {
   "cell_type": "code",
   "execution_count": 11,
   "metadata": {},
   "outputs": [],
   "source": [
    "update_rank = {}\n",
    "for i in sim_in_pf.keys():\n",
    "    update_rank[i] = sim_dict[i]['rank']\n",
    "    if i in fre_dis.keys() and i not in smaller:\n",
    "        if fre_dis[i]['p_t'] < 4 and (fre_dis[i]['p20_21']+fre_dis[i]['p17_19'] == 1) and fre_dis[i]['d'] > 0.9:\n",
    "            update_rank[i] = sim_dict[i]['rank']-10\n",
    "        if fre_dis[i]['p_t'] < 4 and fre_dis[i]['p20_21'] == 0 and fre_dis[i]['p17_19']==0 and fre_dis[i]['d'] < 0.7:\n",
    "            update_rank[i] = sim_dict[i]['rank']+10\n",
    "        if fre_dis[i]['p_t'] > 3 and fre_dis[i]['p20_21'] > 0.25:\n",
    "            if fre_dis[i]['d'] > 0.9:\n",
    "                update_rank[i] = sim_dict[i]['rank']-20\n",
    "            elif fre_dis[i]['d'] > 0.7:\n",
    "                update_rank[i] = sim_dict[i]['rank']-10\n",
    "        if fre_dis[i]['p_t'] > 3 and fre_dis[i]['p20_21'] == 0:\n",
    "            if fre_dis[i]['d'] > 0.9:\n",
    "                update_rank[i] = sim_dict[i]['rank']+10\n",
    "            else:\n",
    "                update_rank[i] = sim_dict[i]['rank']+20"
   ]
  },
  {
   "cell_type": "code",
   "execution_count": 12,
   "metadata": {},
   "outputs": [
    {
     "name": "stdout",
     "output_type": "stream",
     "text": [
      "83\n"
     ]
    }
   ],
   "source": [
    "pre = []\n",
    "answer = []\n",
    "for i in sim_in_pf.keys():\n",
    "    pre.append(update_rank[i])\n",
    "    answer.append(sim_in_pf[i])\n",
    "print(len(pre))"
   ]
  },
  {
   "cell_type": "code",
   "execution_count": 13,
   "metadata": {},
   "outputs": [
    {
     "data": {
      "text/plain": [
       "SpearmanrResult(correlation=0.6951278415704903, pvalue=3.0784399412926636e-13)"
      ]
     },
     "execution_count": 13,
     "metadata": {},
     "output_type": "execute_result"
    }
   ],
   "source": [
    "stats.spearmanr(pre, answer)"
   ]
  },
  {
   "cell_type": "code",
   "execution_count": 19,
   "metadata": {},
   "outputs": [
    {
     "name": "stdout",
     "output_type": "stream",
     "text": [
      "1 Bi2Te3 Bi2Te3 Bi2Te3\n",
      "2 Bi23Sb2 Ca50Mn49NbO150 Co2NaO4\n",
      "3 Ca50Mn49NbO150 CeCoFe3Sb12 HfNi4Sn4Ti2Zr\n",
      "4 Hf7Ni20Sn20Ti6Zr7 Hf7Ni20Sn20Ti6Zr7 Hf7Ni20Sn20Ti6Zr7\n",
      "5 HfNi4Sn4Ti2Zr HfNi4Sn4Ti2Zr Bi22Sb3\n",
      "6 Co20InSb60 Co20InSb60 Bi23Sb2\n",
      "7 AlCa3Sb3 AlCa3Sb3 Co20InSb60\n",
      "8 NiSnTi NiSnTi Bi9Sb\n",
      "9 AlO50Zn49 AlO50Zn49 Sb2Te3\n",
      "10 Co20La19O60Sr Co20La19O60Sr Ca2Co2O5\n",
      "11 Bi9Sb Bi23Sb2 Ni50SbSn49Zr50\n",
      "12 Sb2Te3 Sb2Te3 NiSnZr\n",
      "13 Ca3Co4O9 Ca3Co4O9 Ba39Nb200O600Sr61\n",
      "14 Co40InSb120 Bi8K2Se13 Ca3Co4O9\n",
      "15 HfNi2Sn2Zr Co40InSb120 Mg2Si\n",
      "16 Bi4CsTe6 HfNi2Sn2Zr HfNi2Sn2Zr\n",
      "17 O1361W500 CoFe3LaSb12 NiSnTi\n",
      "18 Bi22Sb3 Ce2CoFe7Sb24 Ba4Ga8Ge15\n",
      "19 NiSnZr O1361W500 CeCoFe3Sb12\n",
      "20 CeCoFe3Sb12 Ca9Mn10O30Yb BiCoO4Sr\n",
      "21 Bi8K2Se13 NiSnZr AlO20Zn19\n",
      "22 MnSb11Yb14 Bi9Sb Co40InSb120\n",
      "23 Co2NaO4 Al2Ca5Sb6 Bi83Sb17\n",
      "24 Sb3Zn4 MnSb11Yb14 GeSi4\n",
      "25 Cu2Se Co2NaO4 AlO50Zn49\n",
      "26 Ba4Ga8Ge15 Sb3Zn4 GeSi9\n",
      "27 Ba4Ga8Sn15 Ba4Ga8Ge15 CoFe3LaSb12\n",
      "28 Mo3NiS4 Bi4CsTe6 CeFe4Sb12\n",
      "29 Ni50SbSn49Zr50 Ba4Ga8Sn15 Bi4CsTe6\n",
      "30 Ba4Ga8Si15 Bi22Sb3 Ga8Ge15Sr4\n",
      "31 Al2Ca5Sb6 Mo3NiS4 Sb3Zn4\n",
      "32 BiTe6Tl9 Ni50SbSn49Zr50 Cu99Se50\n",
      "33 CaMnO3 Ba4Ga8Si15 Bi8K2Se13\n",
      "34 CoFe3LaSb12 BiTe6Tl9 SnTe5Tl2\n",
      "35 GeSi4 CeFe4Sb12 Cu2Se\n",
      "36 Ce2CoFe7Sb24 Cu2Se LaO15Sr4Ti5\n",
      "37 LaO60Sr19Ti20 CuO2Rh NbO15Sr5Ti4\n",
      "38 Cu99Se50 LaO60Sr19Ti20 O1361W500\n",
      "39 Ca9Mn10O30Yb Cu99Se50 BiTe6Tl9\n",
      "40 Mo3Te4 Mo3Te4 LaO30Sr9Ti10\n",
      "41 NbO15Sr5Ti4 NbO15Sr5Ti4 Ce2CoFe7Sb24\n",
      "42 Mg2Si Mg2Si Cu2Mo3S4\n",
      "43 LaO30Sr9Ti10 LaO30Sr9Ti10 LaO60Sr19Ti20\n",
      "44 Ga8Ge15Sr4 CaMnO3 Ba4Ga8Si15\n",
      "45 Bi83Sb17 Ga8Ge15Sr4 MnSb11Yb14\n",
      "46 Ca2Co2O5 Bi83Sb17 Ba4Ga8Sn15\n",
      "47 CuO2Rh Ca2Co2O5 CaMnO3\n",
      "48 SnTe5Tl2 SnTe5Tl2 Cr5Se8Tl\n",
      "49 AgCrSe2 AgCrSe2 O29W10\n",
      "50 BiCoO4Sr BiCoO4Sr Co20La19O60Sr\n",
      "51 LaO15Sr4Ti5 LaO15Sr4Ti5 AgCrSe2\n",
      "52 Ca9CeMn10O30 Ca9CeMn10O30 Cr19Cu20MgO40\n",
      "53 O29W10 O29W10 Ca9Mn10O30Yb\n",
      "54 CoLaO3 CoLaO3 Mo3NiS4\n",
      "55 GeSi9 GeSi9 In2O3\n",
      "56 CeFe4Sb12 NiO50Zn49 BaO3Pb\n",
      "57 NiO50Zn49 Cr5Se8Tl Ca50Mn49NbO150\n",
      "58 Cr5Se8Tl GeSi4 Ca9LaMn10O30\n",
      "59 Cu10La19O40Sr Cu10La19O40Sr Cu10La19O40Sr\n",
      "60 In2O3 CuLa2O4 Co5La4O15Sr\n",
      "61 CaCuMn6O12 In2O3 CuO2Rh\n",
      "62 Cu2Mo3S4 CaCuMn6O12 Ca9CeMn10O30\n",
      "63 Bi2O7Ru2 Cu2Mo3S4 Mo3Te4\n",
      "64 Cr19Cu20MgO40 BaO3Pb AlCa3Sb3\n",
      "65 Cu20La37O80Sr3 Bi2O7Ru2 CuLa2O4\n",
      "66 CrCuO2 Cr19Cu20MgO40 Al2Ca5Sb6\n",
      "67 AlO20Zn19 Cu20La37O80Sr3 CoLaO3\n",
      "68 LiMn2O4 CrCuO2 OZn\n",
      "69 OZn Nd2O7Ru2 Cu20La37O80Sr3\n",
      "70 Ba39Nb200O600Sr61 AlO20Zn19 CuNd2O4\n",
      "71 BaO3Pb CuNd2O4 CrCuO2\n",
      "72 LaNiO3 LiMn2O4 Bi2O7Ru2\n",
      "73 O3W OZn NiO50Zn49\n",
      "74 O7Ru2Y2 Ba39Nb200O600Sr61 LaNiO3\n",
      "75 CaMn2O6Sm LaNiO3 CaMn2O6Sm\n",
      "76 Ca9LaMn10O30 O3W Nd2O7Ru2\n",
      "77 Nd2O7Ru2 O7Ru2Y2 CaCuMn6O12\n",
      "78 CuLa2O4 CaMn2O6Sm CaMn2O6Pr\n",
      "79 CaMn7O12 Ca9LaMn10O30 NiO\n",
      "80 Co5La4O15Sr CaMn7O12 LiMn2O4\n",
      "81 CaMn2O6Pr Co5La4O15Sr O7Ru2Y2\n",
      "82 NiO CaMn2O6Pr CaMn7O12\n",
      "83 CuNd2O4 NiO O3W\n"
     ]
    }
   ],
   "source": [
    "material_83 = []\n",
    "our_list = sorted(update_rank.items(), key=lambda item:item[1])\n",
    "sim_list = sorted(sim_dict.items(), key=lambda item:item[1]['rank'])\n",
    "answer_list = sorted(sim_in_pf.items(), key=lambda item:item[1])\n",
    "for i, ent in enumerate(our_list):\n",
    "    material_83.append(ent[0])\n",
    "    print(i+1, ent[0], sim_list[i][0], answer_list[i][0])"
   ]
  },
  {
   "cell_type": "code",
   "execution_count": 20,
   "metadata": {},
   "outputs": [
    {
     "name": "stdout",
     "output_type": "stream",
     "text": [
      "['Bi2Te3', 'Bi23Sb2', 'Ca50Mn49NbO150', 'Hf7Ni20Sn20Ti6Zr7', 'HfNi4Sn4Ti2Zr', 'Co20InSb60', 'AlCa3Sb3', 'NiSnTi', 'AlO50Zn49', 'Co20La19O60Sr', 'Bi9Sb', 'Sb2Te3', 'Ca3Co4O9', 'Co40InSb120', 'HfNi2Sn2Zr', 'Bi4CsTe6', 'O1361W500', 'Bi22Sb3', 'NiSnZr', 'CeCoFe3Sb12', 'Bi8K2Se13', 'MnSb11Yb14', 'Co2NaO4', 'Sb3Zn4', 'Cu2Se', 'Ba4Ga8Ge15', 'Ba4Ga8Sn15', 'Mo3NiS4', 'Ni50SbSn49Zr50', 'Ba4Ga8Si15', 'Al2Ca5Sb6', 'BiTe6Tl9', 'CaMnO3', 'CoFe3LaSb12', 'GeSi4', 'Ce2CoFe7Sb24', 'LaO60Sr19Ti20', 'Cu99Se50', 'Ca9Mn10O30Yb', 'Mo3Te4', 'NbO15Sr5Ti4', 'Mg2Si', 'LaO30Sr9Ti10', 'Ga8Ge15Sr4', 'Bi83Sb17', 'Ca2Co2O5', 'CuO2Rh', 'SnTe5Tl2', 'AgCrSe2', 'BiCoO4Sr', 'LaO15Sr4Ti5', 'Ca9CeMn10O30', 'O29W10', 'CoLaO3', 'GeSi9', 'CeFe4Sb12', 'NiO50Zn49', 'Cr5Se8Tl', 'Cu10La19O40Sr', 'In2O3', 'CaCuMn6O12', 'Cu2Mo3S4', 'Bi2O7Ru2', 'Cr19Cu20MgO40', 'Cu20La37O80Sr3', 'CrCuO2', 'AlO20Zn19', 'LiMn2O4', 'OZn', 'Ba39Nb200O600Sr61', 'BaO3Pb', 'LaNiO3', 'O3W', 'O7Ru2Y2', 'CaMn2O6Sm', 'Ca9LaMn10O30', 'Nd2O7Ru2', 'CuLa2O4', 'CaMn7O12', 'Co5La4O15Sr', 'CaMn2O6Pr', 'NiO', 'CuNd2O4']\n"
     ]
    }
   ],
   "source": [
    "print(material_83)"
   ]
  },
  {
   "cell_type": "code",
   "execution_count": null,
   "metadata": {},
   "outputs": [],
   "source": []
  }
 ],
 "metadata": {
  "kernelspec": {
   "display_name": "Python 3",
   "language": "python",
   "name": "python3"
  },
  "language_info": {
   "codemirror_mode": {
    "name": "ipython",
    "version": 3
   },
   "file_extension": ".py",
   "mimetype": "text/x-python",
   "name": "python",
   "nbconvert_exporter": "python",
   "pygments_lexer": "ipython3",
   "version": "3.8.5"
  }
 },
 "nbformat": 4,
 "nbformat_minor": 5
}
